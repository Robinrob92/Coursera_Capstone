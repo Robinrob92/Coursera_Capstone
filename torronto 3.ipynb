{
 "cells": [
  {
   "cell_type": "code",
   "execution_count": 34,
   "metadata": {},
   "outputs": [
    {
     "name": "stdout",
     "output_type": "stream",
     "text": [
      "Libraries imported.\n"
     ]
    }
   ],
   "source": [
    "import numpy as np \n",
    "import pandas as pd \n",
    "print('Libraries imported.')"
   ]
  },
  {
   "cell_type": "code",
   "execution_count": 35,
   "metadata": {},
   "outputs": [
    {
     "name": "stdout",
     "output_type": "stream",
     "text": [
      "data downloaded !\n"
     ]
    }
   ],
   "source": [
    "#Get the data\n",
    "data = pd.read_html('https://en.wikipedia.org/wiki/List_of_postal_codes_of_Canada:_M')[0]\n",
    "#create a copy to work on\n",
    "df=data.copy()\n",
    "print('data downloaded !')"
   ]
  },
  {
   "cell_type": "code",
   "execution_count": 36,
   "metadata": {},
   "outputs": [],
   "source": [
    "#let's create a clen dataframe\n",
    "dx=df.loc[(df.Borough!='Not assigned'),:]"
   ]
  },
  {
   "cell_type": "code",
   "execution_count": 37,
   "metadata": {},
   "outputs": [
    {
     "name": "stderr",
     "output_type": "stream",
     "text": [
      "/opt/anaconda3/lib/python3.7/site-packages/pandas/core/frame.py:4223: SettingWithCopyWarning: \n",
      "A value is trying to be set on a copy of a slice from a DataFrame\n",
      "\n",
      "See the caveats in the documentation: http://pandas.pydata.org/pandas-docs/stable/user_guide/indexing.html#returning-a-view-versus-a-copy\n",
      "  return super().rename(**kwargs)\n"
     ]
    }
   ],
   "source": [
    "#rename \n",
    "dx.rename(columns={'Postal Code':'PostalCode', 'Neighbourhood':'Neighborhood'}, inplace=True)"
   ]
  },
  {
   "cell_type": "code",
   "execution_count": 38,
   "metadata": {},
   "outputs": [
    {
     "data": {
      "text/html": [
       "<div>\n",
       "<style scoped>\n",
       "    .dataframe tbody tr th:only-of-type {\n",
       "        vertical-align: middle;\n",
       "    }\n",
       "\n",
       "    .dataframe tbody tr th {\n",
       "        vertical-align: top;\n",
       "    }\n",
       "\n",
       "    .dataframe thead th {\n",
       "        text-align: right;\n",
       "    }\n",
       "</style>\n",
       "<table border=\"1\" class=\"dataframe\">\n",
       "  <thead>\n",
       "    <tr style=\"text-align: right;\">\n",
       "      <th></th>\n",
       "      <th>PostalCode</th>\n",
       "      <th>Borough</th>\n",
       "      <th>Neighborhood</th>\n",
       "    </tr>\n",
       "  </thead>\n",
       "  <tbody>\n",
       "    <tr>\n",
       "      <td>2</td>\n",
       "      <td>M3A</td>\n",
       "      <td>North York</td>\n",
       "      <td>Parkwoods</td>\n",
       "    </tr>\n",
       "    <tr>\n",
       "      <td>3</td>\n",
       "      <td>M4A</td>\n",
       "      <td>North York</td>\n",
       "      <td>Victoria Village</td>\n",
       "    </tr>\n",
       "    <tr>\n",
       "      <td>4</td>\n",
       "      <td>M5A</td>\n",
       "      <td>Downtown Toronto</td>\n",
       "      <td>Regent Park, Harbourfront</td>\n",
       "    </tr>\n",
       "    <tr>\n",
       "      <td>5</td>\n",
       "      <td>M6A</td>\n",
       "      <td>North York</td>\n",
       "      <td>Lawrence Manor, Lawrence Heights</td>\n",
       "    </tr>\n",
       "    <tr>\n",
       "      <td>6</td>\n",
       "      <td>M7A</td>\n",
       "      <td>Downtown Toronto</td>\n",
       "      <td>Queen's Park, Ontario Provincial Government</td>\n",
       "    </tr>\n",
       "  </tbody>\n",
       "</table>\n",
       "</div>"
      ],
      "text/plain": [
       "  PostalCode           Borough                                 Neighborhood\n",
       "2        M3A        North York                                    Parkwoods\n",
       "3        M4A        North York                             Victoria Village\n",
       "4        M5A  Downtown Toronto                    Regent Park, Harbourfront\n",
       "5        M6A        North York             Lawrence Manor, Lawrence Heights\n",
       "6        M7A  Downtown Toronto  Queen's Park, Ontario Provincial Government"
      ]
     },
     "execution_count": 38,
     "metadata": {},
     "output_type": "execute_result"
    }
   ],
   "source": [
    "dx.head()"
   ]
  },
  {
   "cell_type": "code",
   "execution_count": 39,
   "metadata": {},
   "outputs": [
    {
     "data": {
      "text/plain": [
       "(103, 3)"
      ]
     },
     "execution_count": 39,
     "metadata": {},
     "output_type": "execute_result"
    }
   ],
   "source": [
    "#size\n",
    "dx.shape"
   ]
  },
  {
   "cell_type": "code",
   "execution_count": 40,
   "metadata": {},
   "outputs": [
    {
     "name": "stdout",
     "output_type": "stream",
     "text": [
      "data ready\n"
     ]
    }
   ],
   "source": [
    "#get the postal code\n",
    "df_geo=pd.read_csv('http://cocl.us/Geospatial_data')\n",
    "print('data ready')"
   ]
  },
  {
   "cell_type": "code",
   "execution_count": 41,
   "metadata": {},
   "outputs": [],
   "source": [
    "#let's process before merging\n",
    "df_geo.rename(columns={'Postal Code':'PostalCode'}, inplace=True)\n",
    "#merge our dataframe\n",
    "dx=dx.merge(df_geo, on='PostalCode')"
   ]
  },
  {
   "cell_type": "code",
   "execution_count": 42,
   "metadata": {},
   "outputs": [
    {
     "data": {
      "text/html": [
       "<div>\n",
       "<style scoped>\n",
       "    .dataframe tbody tr th:only-of-type {\n",
       "        vertical-align: middle;\n",
       "    }\n",
       "\n",
       "    .dataframe tbody tr th {\n",
       "        vertical-align: top;\n",
       "    }\n",
       "\n",
       "    .dataframe thead th {\n",
       "        text-align: right;\n",
       "    }\n",
       "</style>\n",
       "<table border=\"1\" class=\"dataframe\">\n",
       "  <thead>\n",
       "    <tr style=\"text-align: right;\">\n",
       "      <th></th>\n",
       "      <th>PostalCode</th>\n",
       "      <th>Borough</th>\n",
       "      <th>Neighborhood</th>\n",
       "      <th>Latitude</th>\n",
       "      <th>Longitude</th>\n",
       "    </tr>\n",
       "  </thead>\n",
       "  <tbody>\n",
       "    <tr>\n",
       "      <td>0</td>\n",
       "      <td>M3A</td>\n",
       "      <td>North York</td>\n",
       "      <td>Parkwoods</td>\n",
       "      <td>43.753259</td>\n",
       "      <td>-79.329656</td>\n",
       "    </tr>\n",
       "    <tr>\n",
       "      <td>1</td>\n",
       "      <td>M4A</td>\n",
       "      <td>North York</td>\n",
       "      <td>Victoria Village</td>\n",
       "      <td>43.725882</td>\n",
       "      <td>-79.315572</td>\n",
       "    </tr>\n",
       "    <tr>\n",
       "      <td>2</td>\n",
       "      <td>M5A</td>\n",
       "      <td>Downtown Toronto</td>\n",
       "      <td>Regent Park, Harbourfront</td>\n",
       "      <td>43.654260</td>\n",
       "      <td>-79.360636</td>\n",
       "    </tr>\n",
       "    <tr>\n",
       "      <td>3</td>\n",
       "      <td>M6A</td>\n",
       "      <td>North York</td>\n",
       "      <td>Lawrence Manor, Lawrence Heights</td>\n",
       "      <td>43.718518</td>\n",
       "      <td>-79.464763</td>\n",
       "    </tr>\n",
       "    <tr>\n",
       "      <td>4</td>\n",
       "      <td>M7A</td>\n",
       "      <td>Downtown Toronto</td>\n",
       "      <td>Queen's Park, Ontario Provincial Government</td>\n",
       "      <td>43.662301</td>\n",
       "      <td>-79.389494</td>\n",
       "    </tr>\n",
       "  </tbody>\n",
       "</table>\n",
       "</div>"
      ],
      "text/plain": [
       "  PostalCode           Borough                                 Neighborhood  \\\n",
       "0        M3A        North York                                    Parkwoods   \n",
       "1        M4A        North York                             Victoria Village   \n",
       "2        M5A  Downtown Toronto                    Regent Park, Harbourfront   \n",
       "3        M6A        North York             Lawrence Manor, Lawrence Heights   \n",
       "4        M7A  Downtown Toronto  Queen's Park, Ontario Provincial Government   \n",
       "\n",
       "    Latitude  Longitude  \n",
       "0  43.753259 -79.329656  \n",
       "1  43.725882 -79.315572  \n",
       "2  43.654260 -79.360636  \n",
       "3  43.718518 -79.464763  \n",
       "4  43.662301 -79.389494  "
      ]
     },
     "execution_count": 42,
     "metadata": {},
     "output_type": "execute_result"
    }
   ],
   "source": [
    "dx.head()"
   ]
  },
  {
   "cell_type": "markdown",
   "metadata": {},
   "source": [
    "# Clustering of our Dasaset "
   ]
  },
  {
   "cell_type": "code",
   "execution_count": 43,
   "metadata": {},
   "outputs": [],
   "source": [
    "# import k-means \n",
    "from sklearn.cluster import KMeans"
   ]
  },
  {
   "cell_type": "markdown",
   "metadata": {},
   "source": [
    "### The purpose of our clustering will be to create zone according to the location of district "
   ]
  },
  {
   "cell_type": "markdown",
   "metadata": {},
   "source": [
    "#### Pre-processing\n",
    "k-means algorithm isn't directly applicable to categorical variables because Euclidean distance function isn't really meaningful for discrete variables. So, lets drop this feature and run clustering."
   ]
  },
  {
   "cell_type": "code",
   "execution_count": 44,
   "metadata": {},
   "outputs": [],
   "source": [
    "#drop column\n",
    "dx_cluster = dx[['Latitude','Longitude']]"
   ]
  },
  {
   "cell_type": "code",
   "execution_count": 45,
   "metadata": {},
   "outputs": [
    {
     "data": {
      "text/html": [
       "<div>\n",
       "<style scoped>\n",
       "    .dataframe tbody tr th:only-of-type {\n",
       "        vertical-align: middle;\n",
       "    }\n",
       "\n",
       "    .dataframe tbody tr th {\n",
       "        vertical-align: top;\n",
       "    }\n",
       "\n",
       "    .dataframe thead th {\n",
       "        text-align: right;\n",
       "    }\n",
       "</style>\n",
       "<table border=\"1\" class=\"dataframe\">\n",
       "  <thead>\n",
       "    <tr style=\"text-align: right;\">\n",
       "      <th></th>\n",
       "      <th>Latitude</th>\n",
       "      <th>Longitude</th>\n",
       "    </tr>\n",
       "  </thead>\n",
       "  <tbody>\n",
       "    <tr>\n",
       "      <td>0</td>\n",
       "      <td>43.753259</td>\n",
       "      <td>-79.329656</td>\n",
       "    </tr>\n",
       "    <tr>\n",
       "      <td>1</td>\n",
       "      <td>43.725882</td>\n",
       "      <td>-79.315572</td>\n",
       "    </tr>\n",
       "    <tr>\n",
       "      <td>2</td>\n",
       "      <td>43.654260</td>\n",
       "      <td>-79.360636</td>\n",
       "    </tr>\n",
       "    <tr>\n",
       "      <td>3</td>\n",
       "      <td>43.718518</td>\n",
       "      <td>-79.464763</td>\n",
       "    </tr>\n",
       "    <tr>\n",
       "      <td>4</td>\n",
       "      <td>43.662301</td>\n",
       "      <td>-79.389494</td>\n",
       "    </tr>\n",
       "  </tbody>\n",
       "</table>\n",
       "</div>"
      ],
      "text/plain": [
       "    Latitude  Longitude\n",
       "0  43.753259 -79.329656\n",
       "1  43.725882 -79.315572\n",
       "2  43.654260 -79.360636\n",
       "3  43.718518 -79.464763\n",
       "4  43.662301 -79.389494"
      ]
     },
     "execution_count": 45,
     "metadata": {},
     "output_type": "execute_result"
    }
   ],
   "source": [
    "dx_cluster.head()"
   ]
  },
  {
   "cell_type": "code",
   "execution_count": 46,
   "metadata": {},
   "outputs": [
    {
     "data": {
      "text/plain": [
       "array([[ 0.93187104,  0.69818881],\n",
       "       [ 0.40749844,  0.84388426],\n",
       "       [-0.96437519,  0.37773518],\n",
       "       [ 0.26644077, -0.6993678 ],\n",
       "       [-0.81034434,  0.07922652],\n",
       "       [-0.7039597 , -1.39737754],\n",
       "       [ 1.95523876,  2.09777597],\n",
       "       [ 0.79103364,  0.465121  ],\n",
       "       [ 0.03427589,  0.90216906],\n",
       "       [-0.90879146,  0.18842596],\n",
       "       [ 0.09518258, -0.49568547],\n",
       "       [-1.0279041 , -1.62993333],\n",
       "       [ 1.53094905,  2.44798852],\n",
       "       [ 0.40783172,  0.58164715],\n",
       "       [-0.17744183,  0.81474393],\n",
       "       [-1.01735586,  0.22482887],\n",
       "       [-0.20737226, -0.32106485],\n",
       "       [-1.1701819 , -1.86243118],\n",
       "       [ 1.12942801,  2.15613628],\n",
       "       [-0.54111407,  1.07704414],\n",
       "       [-1.14613182,  0.24667041],\n",
       "       [-0.29846415, -0.58298336],\n",
       "       [ 1.271543  ,  1.86437197],\n",
       "       [ 0.0852875 ,  0.3486083 ],\n",
       "       [-0.89364811,  0.10106496],\n",
       "       [-0.67165797, -0.26285143],\n",
       "       [ 1.3126078 ,  1.6310228 ],\n",
       "       [ 1.89922981,  0.3486083 ],\n",
       "       [ 0.95236034, -0.46658445],\n",
       "       [ 0.01457957,  0.49425098],\n",
       "       [-1.03502949,  0.1301846 ],\n",
       "       [-0.68194189, -0.46658445],\n",
       "       [ 0.76859251,  1.6310228 ],\n",
       "       [ 1.41568642,  0.523382  ],\n",
       "       [ 1.21385421, -0.9320953 ],\n",
       "       [-0.36892499,  0.61078127],\n",
       "       [-1.22188881,  0.15930528],\n",
       "       [-1.08568291, -0.23374316],\n",
       "       [ 0.44670528,  1.39772948],\n",
       "       [ 1.57715295,  0.1156253 ],\n",
       "       [ 0.62951348, -0.6993678 ],\n",
       "       [-0.4798262 ,  0.465121  ],\n",
       "       [-1.10004669,  0.16112481],\n",
       "       [-1.29790247, -0.32106485],\n",
       "       [ 0.12457862,  1.16449306],\n",
       "       [ 1.01292418,  0.23210904],\n",
       "       [ 0.65903784, -1.13568453],\n",
       "       [-0.68206831,  0.84388426],\n",
       "       [-1.08047678,  0.17932523],\n",
       "       [ 0.17523204, -0.96118184],\n",
       "       [ 0.99018999, -1.74618949],\n",
       "       [ 0.2242631 ,  1.6310228 ],\n",
       "       [ 1.61748606, -0.1173008 ],\n",
       "       [ 0.45756957, -1.01935285],\n",
       "       [-0.86351655,  0.58164715],\n",
       "       [ 0.54924375, -0.23374316],\n",
       "       [-0.25842793, -0.81573879],\n",
       "       [ 0.38611463, -1.39737754],\n",
       "       [-0.22890739,  1.3685726 ],\n",
       "       [ 1.25483666, -0.1173008 ],\n",
       "       [ 1.09224386, -1.28107896],\n",
       "       [ 0.44845406,  0.08650566],\n",
       "       [ 0.13574746, -0.20463387],\n",
       "       [-0.60187328, -0.9320953 ],\n",
       "       [ 0.04344694, -1.25200173],\n",
       "       [ 1.01138034,  1.28110403],\n",
       "       [ 0.92228816, -0.0299605 ],\n",
       "       [ 0.1559801 ,  0.07194739],\n",
       "       [-0.14672415, -0.1464132 ],\n",
       "       [-0.82362207, -0.6993678 ],\n",
       "       [-0.15876451, -1.39737754],\n",
       "       [ 0.87082451,  1.04789553],\n",
       "       [ 1.4964963 , -0.46658445],\n",
       "       [ 0.20639984, -0.0881884 ],\n",
       "       [-0.61098304, -0.0881884 ],\n",
       "       [-1.06589657, -0.61208128],\n",
       "       [-1.2956346 , -2.26190124],\n",
       "       [-0.30076649, -1.62993333],\n",
       "       [ 1.71607875,  1.39772948],\n",
       "       [-0.00542705,  0.08650566],\n",
       "       [-0.80279565, -0.0299605 ],\n",
       "       [-1.01588673, -0.90300772],\n",
       "       [ 1.47544769,  0.96045696],\n",
       "       [-0.28795421,  0.14474494],\n",
       "       [-0.9845676 , -0.0299605 ],\n",
       "       [ 2.11931218,  1.16449306],\n",
       "       [-0.34851996, -0.0299605 ],\n",
       "       [-1.44923065,  0.02827051],\n",
       "       [-1.89552668, -1.07752076],\n",
       "       [ 0.66673402, -1.97865839],\n",
       "       [ 1.81807323,  0.81474393],\n",
       "       [-0.47972085,  0.20298733],\n",
       "       [-1.11425148,  0.23074465],\n",
       "       [-1.95745046, -1.51366267],\n",
       "       [ 0.04100094, -2.0367663 ],\n",
       "       [ 2.51910935,  1.98106673],\n",
       "       [-0.70182592,  0.30491901],\n",
       "       [-1.0760579 ,  0.15384464],\n",
       "       [-0.97598841, -1.13568453],\n",
       "       [-0.74218585,  0.14474494],\n",
       "       [-0.8018705 ,  0.78196041],\n",
       "       [-1.30919007, -1.04843732],\n",
       "       [-1.45125908, -1.28107896]])"
      ]
     },
     "execution_count": 46,
     "metadata": {},
     "output_type": "execute_result"
    }
   ],
   "source": [
    "from sklearn.preprocessing import StandardScaler\n",
    "X = dx_cluster\n",
    "Clus_dataSet = StandardScaler().fit_transform(X)\n",
    "Clus_dataSet"
   ]
  },
  {
   "cell_type": "code",
   "execution_count": 47,
   "metadata": {},
   "outputs": [
    {
     "name": "stdout",
     "output_type": "stream",
     "text": [
      "[3 3 4 0 4 2 1 3 3 4 0 2 1 3 3 4 0 2 1 3 4 0 1 3 4 4 1 0 0 3 4 4 1 3 0 3 4\n",
      " 4 1 0 0 4 4 4 3 0 2 3 4 2 2 1 0 2 4 0 2 2 3 0 2 0 0 2 2 1 0 0 0 2 2 3 0 0\n",
      " 4 4 2 2 1 0 4 2 1 4 4 1 4 4 2 2 1 4 4 2 2 1 4 4 2 4 3 2 2]\n"
     ]
    }
   ],
   "source": [
    "clusterNum = 5\n",
    "k_means = KMeans(init = \"k-means++\", n_clusters = clusterNum, n_init = 12)\n",
    "k_means.fit(X)\n",
    "labels = k_means.labels_\n",
    "print(labels)"
   ]
  },
  {
   "cell_type": "code",
   "execution_count": 48,
   "metadata": {},
   "outputs": [
    {
     "data": {
      "text/html": [
       "<div>\n",
       "<style scoped>\n",
       "    .dataframe tbody tr th:only-of-type {\n",
       "        vertical-align: middle;\n",
       "    }\n",
       "\n",
       "    .dataframe tbody tr th {\n",
       "        vertical-align: top;\n",
       "    }\n",
       "\n",
       "    .dataframe thead th {\n",
       "        text-align: right;\n",
       "    }\n",
       "</style>\n",
       "<table border=\"1\" class=\"dataframe\">\n",
       "  <thead>\n",
       "    <tr style=\"text-align: right;\">\n",
       "      <th></th>\n",
       "      <th>PostalCode</th>\n",
       "      <th>Borough</th>\n",
       "      <th>Neighborhood</th>\n",
       "      <th>Latitude</th>\n",
       "      <th>Longitude</th>\n",
       "      <th>zone/cluster</th>\n",
       "    </tr>\n",
       "  </thead>\n",
       "  <tbody>\n",
       "    <tr>\n",
       "      <td>0</td>\n",
       "      <td>M3A</td>\n",
       "      <td>North York</td>\n",
       "      <td>Parkwoods</td>\n",
       "      <td>43.753259</td>\n",
       "      <td>-79.329656</td>\n",
       "      <td>3</td>\n",
       "    </tr>\n",
       "    <tr>\n",
       "      <td>1</td>\n",
       "      <td>M4A</td>\n",
       "      <td>North York</td>\n",
       "      <td>Victoria Village</td>\n",
       "      <td>43.725882</td>\n",
       "      <td>-79.315572</td>\n",
       "      <td>3</td>\n",
       "    </tr>\n",
       "    <tr>\n",
       "      <td>2</td>\n",
       "      <td>M5A</td>\n",
       "      <td>Downtown Toronto</td>\n",
       "      <td>Regent Park, Harbourfront</td>\n",
       "      <td>43.654260</td>\n",
       "      <td>-79.360636</td>\n",
       "      <td>4</td>\n",
       "    </tr>\n",
       "    <tr>\n",
       "      <td>3</td>\n",
       "      <td>M6A</td>\n",
       "      <td>North York</td>\n",
       "      <td>Lawrence Manor, Lawrence Heights</td>\n",
       "      <td>43.718518</td>\n",
       "      <td>-79.464763</td>\n",
       "      <td>0</td>\n",
       "    </tr>\n",
       "    <tr>\n",
       "      <td>4</td>\n",
       "      <td>M7A</td>\n",
       "      <td>Downtown Toronto</td>\n",
       "      <td>Queen's Park, Ontario Provincial Government</td>\n",
       "      <td>43.662301</td>\n",
       "      <td>-79.389494</td>\n",
       "      <td>4</td>\n",
       "    </tr>\n",
       "  </tbody>\n",
       "</table>\n",
       "</div>"
      ],
      "text/plain": [
       "  PostalCode           Borough                                 Neighborhood  \\\n",
       "0        M3A        North York                                    Parkwoods   \n",
       "1        M4A        North York                             Victoria Village   \n",
       "2        M5A  Downtown Toronto                    Regent Park, Harbourfront   \n",
       "3        M6A        North York             Lawrence Manor, Lawrence Heights   \n",
       "4        M7A  Downtown Toronto  Queen's Park, Ontario Provincial Government   \n",
       "\n",
       "    Latitude  Longitude  zone/cluster  \n",
       "0  43.753259 -79.329656             3  \n",
       "1  43.725882 -79.315572             3  \n",
       "2  43.654260 -79.360636             4  \n",
       "3  43.718518 -79.464763             0  \n",
       "4  43.662301 -79.389494             4  "
      ]
     },
     "execution_count": 48,
     "metadata": {},
     "output_type": "execute_result"
    }
   ],
   "source": [
    "dx[\"zone/cluster\"] = labels\n",
    "dx.head(5)"
   ]
  },
  {
   "cell_type": "code",
   "execution_count": null,
   "metadata": {},
   "outputs": [],
   "source": []
  }
 ],
 "metadata": {
  "kernelspec": {
   "display_name": "Python 3",
   "language": "python",
   "name": "python3"
  },
  "language_info": {
   "codemirror_mode": {
    "name": "ipython",
    "version": 3
   },
   "file_extension": ".py",
   "mimetype": "text/x-python",
   "name": "python",
   "nbconvert_exporter": "python",
   "pygments_lexer": "ipython3",
   "version": "3.7.4"
  }
 },
 "nbformat": 4,
 "nbformat_minor": 2
}
